{
 "cells": [
  {
   "cell_type": "code",
   "execution_count": 1,
   "metadata": {},
   "outputs": [],
   "source": [
    "from cv2 import transform\n",
    "from SFTP_Solver.copier import SFTP_copier\n",
    "from SFTP_Solver.dataLoader import dataLoader\n",
    "import numpy as np\n",
    "from torchvision.transforms import Compose, RandomCrop\n",
    "from data_loader.dataset import SequenceSynchronizedFramesEventsDataset\n",
    "from utils.data_augmentation import RandomRotationFlip\n",
    "from torch.utils.data import DataLoader\n"
   ]
  },
  {
   "cell_type": "code",
   "execution_count": 3,
   "metadata": {},
   "outputs": [],
   "source": [
    "base_folder = '/SCRATCH/project/data/training/full_data/Town03_sequence_82/'\n",
    "event_folder = 'events/voxels'\n",
    "frame_folder = 'rgb/data'\n",
    "depth_folder = 'depth/data'\n",
    "transform = Compose([\n",
    "        RandomRotationFlip(degrees=(-0.0, 0.0), p_hflip=0.50, p_vflip=0.00),\n",
    "        RandomCrop(size=(224, 224))\n",
    "    ]\n",
    ")\n",
    "ds = SequenceSynchronizedFramesEventsDataset(\n",
    "    base_folder, \n",
    "    event_folder,\n",
    "    depth_folder=depth_folder,\n",
    "    frame_folder=frame_folder,\n",
    "    sequence_length=10,\n",
    "    transform=transform,\n",
    "    proba_pause_when_running=0.0,\n",
    "    proba_pause_when_paused=0.0,\n",
    "    step_size=1000,\n",
    "    clip_distance=1000.,\n",
    "    every_x_rgb_frame=5,\n",
    "    normalize=True,\n",
    "    scale_factor=1,\n",
    "    use_phased_arch=False,\n",
    "    baseline=False,\n",
    "    loss_composition=['image', 'events4'],\n",
    "    reg_factor=5.70378,\n",
    "    recurrency=True\n",
    ")\n",
    "dl = DataLoader(ds, batch_size=8)\n"
   ]
  },
  {
   "cell_type": "code",
   "execution_count": 4,
   "metadata": {},
   "outputs": [
    {
     "name": "stderr",
     "output_type": "stream",
     "text": [
      "/home/melonlord/RPG_RAMNET_modified/data_loader/dataset.py:135: SyntaxWarning: \"is not\" with a literal. Did you mean \"!=\"?\n",
      "  if k is not \"times\" and k is not \"batchlength_events\":\n",
      "/home/melonlord/RPG_RAMNET_modified/data_loader/dataset.py:135: SyntaxWarning: \"is not\" with a literal. Did you mean \"!=\"?\n",
      "  if k is not \"times\" and k is not \"batchlength_events\":\n",
      "/home/melonlord/RPG_RAMNET_modified/data_loader/dataset.py:135: SyntaxWarning: \"is not\" with a literal. Did you mean \"!=\"?\n",
      "  if k is not \"times\" and k is not \"batchlength_events\":\n",
      "/home/melonlord/RPG_RAMNET_modified/data_loader/dataset.py:135: SyntaxWarning: \"is not\" with a literal. Did you mean \"!=\"?\n",
      "  if k is not \"times\" and k is not \"batchlength_events\":\n",
      "/home/melonlord/RPG_RAMNET_modified/data_loader/dataset.py:135: SyntaxWarning: \"is not\" with a literal. Did you mean \"!=\"?\n",
      "  if k is not \"times\" and k is not \"batchlength_events\":\n",
      "/home/melonlord/RPG_RAMNET_modified/data_loader/dataset.py:135: SyntaxWarning: \"is not\" with a literal. Did you mean \"!=\"?\n",
      "  if k is not \"times\" and k is not \"batchlength_events\":\n",
      "/home/melonlord/RPG_RAMNET_modified/data_loader/dataset.py:135: SyntaxWarning: \"is not\" with a literal. Did you mean \"!=\"?\n",
      "  if k is not \"times\" and k is not \"batchlength_events\":\n",
      "/home/melonlord/RPG_RAMNET_modified/data_loader/dataset.py:135: SyntaxWarning: \"is not\" with a literal. Did you mean \"!=\"?\n",
      "  if k is not \"times\" and k is not \"batchlength_events\":\n"
     ]
    },
    {
     "ename": "ValueError",
     "evalue": "Could not find a backend to open `/home/melonlord/RPG_RAMNET_modified/temp/03_082_0095_voxel.npy`` with iomode `ri`.",
     "output_type": "error",
     "traceback": [
      "\u001b[0;31m---------------------------------------------------------------------------\u001b[0m",
      "\u001b[0;31mValueError\u001b[0m                                Traceback (most recent call last)",
      "\u001b[1;32m/home/melonlord/RPG_RAMNET_modified/sample.ipynb Cell 3'\u001b[0m in \u001b[0;36m<cell line: 1>\u001b[0;34m()\u001b[0m\n\u001b[0;32m----> <a href='vscode-notebook-cell:/home/melonlord/RPG_RAMNET_modified/sample.ipynb#ch0000001?line=0'>1</a>\u001b[0m ds[\u001b[39m0\u001b[39;49m]\n",
      "File \u001b[0;32m~/RPG_RAMNET_modified/data_loader/dataset.py:102\u001b[0m, in \u001b[0;36mSequenceSynchronizedFramesEventsDataset.__getitem__\u001b[0;34m(self, i)\u001b[0m\n\u001b[1;32m    <a href='file:///home/melonlord/RPG_RAMNET_modified/data_loader/dataset.py?line=99'>100</a>\u001b[0m k \u001b[39m=\u001b[39m \u001b[39m0\u001b[39m\n\u001b[1;32m    <a href='file:///home/melonlord/RPG_RAMNET_modified/data_loader/dataset.py?line=100'>101</a>\u001b[0m j \u001b[39m=\u001b[39m i \u001b[39m*\u001b[39m \u001b[39mself\u001b[39m\u001b[39m.\u001b[39mstep_size\n\u001b[0;32m--> <a href='file:///home/melonlord/RPG_RAMNET_modified/data_loader/dataset.py?line=101'>102</a>\u001b[0m item \u001b[39m=\u001b[39m \u001b[39mself\u001b[39;49m\u001b[39m.\u001b[39;49mdataset\u001b[39m.\u001b[39;49m\u001b[39m__getitem__\u001b[39;49m(j, seed)\n\u001b[1;32m    <a href='file:///home/melonlord/RPG_RAMNET_modified/data_loader/dataset.py?line=102'>103</a>\u001b[0m sequence\u001b[39m.\u001b[39mappend(item)\n\u001b[1;32m    <a href='file:///home/melonlord/RPG_RAMNET_modified/data_loader/dataset.py?line=104'>105</a>\u001b[0m paused \u001b[39m=\u001b[39m \u001b[39mFalse\u001b[39;00m\n",
      "File \u001b[0;32m~/RPG_RAMNET_modified/data_loader/dataset.py:318\u001b[0m, in \u001b[0;36mSynchronizedFramesEventsDataset.__getitem__\u001b[0;34m(self, i, seed)\u001b[0m\n\u001b[1;32m    <a href='file:///home/melonlord/RPG_RAMNET_modified/data_loader/dataset.py?line=314'>315</a>\u001b[0m \u001b[39m# Get the event tensor from the event dataset loader\u001b[39;00m\n\u001b[1;32m    <a href='file:///home/melonlord/RPG_RAMNET_modified/data_loader/dataset.py?line=315'>316</a>\u001b[0m \u001b[39m# Note that we pass the transform seed to ensure the same transform is\u001b[39;00m\n\u001b[1;32m    <a href='file:///home/melonlord/RPG_RAMNET_modified/data_loader/dataset.py?line=316'>317</a>\u001b[0m \u001b[39mif\u001b[39;00m \u001b[39mself\u001b[39m\u001b[39m.\u001b[39mbaseline \u001b[39m!=\u001b[39m \u001b[39m'\u001b[39m\u001b[39mrgb\u001b[39m\u001b[39m'\u001b[39m:\n\u001b[0;32m--> <a href='file:///home/melonlord/RPG_RAMNET_modified/data_loader/dataset.py?line=317'>318</a>\u001b[0m     events \u001b[39m=\u001b[39m \u001b[39mself\u001b[39;49m\u001b[39m.\u001b[39;49mevent_dataset\u001b[39m.\u001b[39;49m\u001b[39m__getitem__\u001b[39;49m(j, seed)\n\u001b[1;32m    <a href='file:///home/melonlord/RPG_RAMNET_modified/data_loader/dataset.py?line=319'>320</a>\u001b[0m \u001b[39m# Load numpy depth ground truth frame\u001b[39;00m\n\u001b[1;32m    <a href='file:///home/melonlord/RPG_RAMNET_modified/data_loader/dataset.py?line=320'>321</a>\u001b[0m \u001b[39mif\u001b[39;00m \u001b[39mself\u001b[39m\u001b[39m.\u001b[39muse_mvsec:\n",
      "File \u001b[0;32m~/RPG_RAMNET_modified/data_loader/event_dataset.py:179\u001b[0m, in \u001b[0;36mVoxelGridDataset.__getitem__\u001b[0;34m(self, i, transform_seed)\u001b[0m\n\u001b[1;32m    <a href='file:///home/melonlord/RPG_RAMNET_modified/data_loader/event_dataset.py?line=174'>175</a>\u001b[0m     event_tensor \u001b[39m=\u001b[39m np\u001b[39m.\u001b[39mload(join(\u001b[39mself\u001b[39m\u001b[39m.\u001b[39mevent_folder, \u001b[39m'\u001b[39m\u001b[39mevent_tensor_\u001b[39m\u001b[39m{:010d}\u001b[39;00m\u001b[39m.npy\u001b[39m\u001b[39m'\u001b[39m\u001b[39m.\u001b[39mformat(\u001b[39mself\u001b[39m\u001b[39m.\u001b[39mfirst_valid_idx \u001b[39m+\u001b[39m i)))\n\u001b[1;32m    <a href='file:///home/melonlord/RPG_RAMNET_modified/data_loader/event_dataset.py?line=175'>176</a>\u001b[0m \u001b[39melse\u001b[39;00m:\n\u001b[1;32m    <a href='file:///home/melonlord/RPG_RAMNET_modified/data_loader/event_dataset.py?line=176'>177</a>\u001b[0m \n\u001b[1;32m    <a href='file:///home/melonlord/RPG_RAMNET_modified/data_loader/event_dataset.py?line=177'>178</a>\u001b[0m     \u001b[39m# Here I make some modification\u001b[39;00m\n\u001b[0;32m--> <a href='file:///home/melonlord/RPG_RAMNET_modified/data_loader/event_dataset.py?line=178'>179</a>\u001b[0m     event_tensor \u001b[39m=\u001b[39m \u001b[39mself\u001b[39;49m\u001b[39m.\u001b[39;49mloader\u001b[39m.\u001b[39;49mrgbReader(\u001b[39mself\u001b[39;49m\u001b[39m.\u001b[39;49mfilepath_dvs, \u001b[39mself\u001b[39;49m\u001b[39m.\u001b[39;49mlocal_dir_dvs)\n\u001b[1;32m    <a href='file:///home/melonlord/RPG_RAMNET_modified/data_loader/event_dataset.py?line=179'>180</a>\u001b[0m     \u001b[39m# copier.sftp.close()\u001b[39;00m\n\u001b[1;32m    <a href='file:///home/melonlord/RPG_RAMNET_modified/data_loader/event_dataset.py?line=180'>181</a>\u001b[0m     \u001b[39m# modification done\u001b[39;00m\n\u001b[1;32m    <a href='file:///home/melonlord/RPG_RAMNET_modified/data_loader/event_dataset.py?line=182'>183</a>\u001b[0m     \u001b[39m\"\"\"\u001b[39;00m\n\u001b[1;32m    <a href='file:///home/melonlord/RPG_RAMNET_modified/data_loader/event_dataset.py?line=183'>184</a>\u001b[0m \u001b[39m    path_event = glob.glob(self.event_folder + '/*_{:04d}_voxel.npy'.format(self.first_valid_idx + i))\u001b[39;00m\n\u001b[1;32m    <a href='file:///home/melonlord/RPG_RAMNET_modified/data_loader/event_dataset.py?line=184'>185</a>\u001b[0m \u001b[39m    event_tensor = np.load(path_event[0])\u001b[39;00m\n\u001b[1;32m    <a href='file:///home/melonlord/RPG_RAMNET_modified/data_loader/event_dataset.py?line=185'>186</a>\u001b[0m \u001b[39m    \"\"\"\u001b[39;00m\n",
      "File \u001b[0;32m~/RPG_RAMNET_modified/SFTP_Solver/dataLoader.py:104\u001b[0m, in \u001b[0;36mdataLoader.rgbReader\u001b[0;34m(self, filePath, localPath)\u001b[0m\n\u001b[1;32m     <a href='file:///home/melonlord/RPG_RAMNET_modified/SFTP_Solver/dataLoader.py?line=97'>98</a>\u001b[0m \u001b[39m\"\"\"\u001b[39;00m\n\u001b[1;32m     <a href='file:///home/melonlord/RPG_RAMNET_modified/SFTP_Solver/dataLoader.py?line=98'>99</a>\u001b[0m \u001b[39mRead the rgb image into a ndarray \u001b[39;00m\n\u001b[1;32m    <a href='file:///home/melonlord/RPG_RAMNET_modified/SFTP_Solver/dataLoader.py?line=99'>100</a>\u001b[0m \u001b[39m\"\"\"\u001b[39;00m\n\u001b[1;32m    <a href='file:///home/melonlord/RPG_RAMNET_modified/SFTP_Solver/dataLoader.py?line=101'>102</a>\u001b[0m fullpath_local \u001b[39m=\u001b[39m \u001b[39mself\u001b[39m\u001b[39m.\u001b[39mcopier\u001b[39m.\u001b[39mdata_retriver(filePath, localPath, localpath_alreadyFILE\u001b[39m=\u001b[39m\u001b[39mFalse\u001b[39;00m)\n\u001b[0;32m--> <a href='file:///home/melonlord/RPG_RAMNET_modified/SFTP_Solver/dataLoader.py?line=103'>104</a>\u001b[0m rgb_frame \u001b[39m=\u001b[39m io\u001b[39m.\u001b[39;49mimread(fullpath_local, as_gray\u001b[39m=\u001b[39;49m\u001b[39mFalse\u001b[39;49;00m)\u001b[39m.\u001b[39mastype(np\u001b[39m.\u001b[39mfloat32)\n\u001b[1;32m    <a href='file:///home/melonlord/RPG_RAMNET_modified/SFTP_Solver/dataLoader.py?line=105'>106</a>\u001b[0m  \u001b[39m# load data to mem, delete the file in the folder\u001b[39;00m\n\u001b[1;32m    <a href='file:///home/melonlord/RPG_RAMNET_modified/SFTP_Solver/dataLoader.py?line=106'>107</a>\u001b[0m os\u001b[39m.\u001b[39msystem(\u001b[39m'\u001b[39m\u001b[39mrm \u001b[39m\u001b[39m%s\u001b[39;00m\u001b[39m'\u001b[39m \u001b[39m%\u001b[39m fullpath_local)\n",
      "File \u001b[0;32m~/.local/lib/python3.8/site-packages/skimage/io/_io.py:48\u001b[0m, in \u001b[0;36mimread\u001b[0;34m(fname, as_gray, plugin, **plugin_args)\u001b[0m\n\u001b[1;32m     <a href='file:///home/melonlord/.local/lib/python3.8/site-packages/skimage/io/_io.py?line=44'>45</a>\u001b[0m         plugin \u001b[39m=\u001b[39m \u001b[39m'\u001b[39m\u001b[39mtifffile\u001b[39m\u001b[39m'\u001b[39m\n\u001b[1;32m     <a href='file:///home/melonlord/.local/lib/python3.8/site-packages/skimage/io/_io.py?line=46'>47</a>\u001b[0m \u001b[39mwith\u001b[39;00m file_or_url_context(fname) \u001b[39mas\u001b[39;00m fname:\n\u001b[0;32m---> <a href='file:///home/melonlord/.local/lib/python3.8/site-packages/skimage/io/_io.py?line=47'>48</a>\u001b[0m     img \u001b[39m=\u001b[39m call_plugin(\u001b[39m'\u001b[39;49m\u001b[39mimread\u001b[39;49m\u001b[39m'\u001b[39;49m, fname, plugin\u001b[39m=\u001b[39;49mplugin, \u001b[39m*\u001b[39;49m\u001b[39m*\u001b[39;49mplugin_args)\n\u001b[1;32m     <a href='file:///home/melonlord/.local/lib/python3.8/site-packages/skimage/io/_io.py?line=49'>50</a>\u001b[0m \u001b[39mif\u001b[39;00m \u001b[39mnot\u001b[39;00m \u001b[39mhasattr\u001b[39m(img, \u001b[39m'\u001b[39m\u001b[39mndim\u001b[39m\u001b[39m'\u001b[39m):\n\u001b[1;32m     <a href='file:///home/melonlord/.local/lib/python3.8/site-packages/skimage/io/_io.py?line=50'>51</a>\u001b[0m     \u001b[39mreturn\u001b[39;00m img\n",
      "File \u001b[0;32m~/.local/lib/python3.8/site-packages/skimage/io/manage_plugins.py:210\u001b[0m, in \u001b[0;36mcall_plugin\u001b[0;34m(kind, *args, **kwargs)\u001b[0m\n\u001b[1;32m    <a href='file:///home/melonlord/.local/lib/python3.8/site-packages/skimage/io/manage_plugins.py?line=205'>206</a>\u001b[0m     \u001b[39mexcept\u001b[39;00m \u001b[39mIndexError\u001b[39;00m:\n\u001b[1;32m    <a href='file:///home/melonlord/.local/lib/python3.8/site-packages/skimage/io/manage_plugins.py?line=206'>207</a>\u001b[0m         \u001b[39mraise\u001b[39;00m \u001b[39mRuntimeError\u001b[39;00m(\u001b[39m'\u001b[39m\u001b[39mCould not find the plugin \u001b[39m\u001b[39m\"\u001b[39m\u001b[39m%s\u001b[39;00m\u001b[39m\"\u001b[39m\u001b[39m for \u001b[39m\u001b[39m%s\u001b[39;00m\u001b[39m.\u001b[39m\u001b[39m'\u001b[39m \u001b[39m%\u001b[39m\n\u001b[1;32m    <a href='file:///home/melonlord/.local/lib/python3.8/site-packages/skimage/io/manage_plugins.py?line=207'>208</a>\u001b[0m                            (plugin, kind))\n\u001b[0;32m--> <a href='file:///home/melonlord/.local/lib/python3.8/site-packages/skimage/io/manage_plugins.py?line=209'>210</a>\u001b[0m \u001b[39mreturn\u001b[39;00m func(\u001b[39m*\u001b[39;49margs, \u001b[39m*\u001b[39;49m\u001b[39m*\u001b[39;49mkwargs)\n",
      "File \u001b[0;32m~/.local/lib/python3.8/site-packages/skimage/io/_plugins/imageio_plugin.py:10\u001b[0m, in \u001b[0;36mimread\u001b[0;34m(*args, **kwargs)\u001b[0m\n\u001b[1;32m      <a href='file:///home/melonlord/.local/lib/python3.8/site-packages/skimage/io/_plugins/imageio_plugin.py?line=7'>8</a>\u001b[0m \u001b[39m@wraps\u001b[39m(imageio_imread)\n\u001b[1;32m      <a href='file:///home/melonlord/.local/lib/python3.8/site-packages/skimage/io/_plugins/imageio_plugin.py?line=8'>9</a>\u001b[0m \u001b[39mdef\u001b[39;00m \u001b[39mimread\u001b[39m(\u001b[39m*\u001b[39margs, \u001b[39m*\u001b[39m\u001b[39m*\u001b[39mkwargs):\n\u001b[0;32m---> <a href='file:///home/melonlord/.local/lib/python3.8/site-packages/skimage/io/_plugins/imageio_plugin.py?line=9'>10</a>\u001b[0m     \u001b[39mreturn\u001b[39;00m np\u001b[39m.\u001b[39masarray(imageio_imread(\u001b[39m*\u001b[39;49margs, \u001b[39m*\u001b[39;49m\u001b[39m*\u001b[39;49mkwargs))\n",
      "File \u001b[0;32m~/.local/lib/python3.8/site-packages/imageio/__init__.py:97\u001b[0m, in \u001b[0;36mimread\u001b[0;34m(uri, format, **kwargs)\u001b[0m\n\u001b[1;32m     <a href='file:///home/melonlord/.local/lib/python3.8/site-packages/imageio/__init__.py?line=67'>68</a>\u001b[0m \u001b[39m\"\"\"imread(uri, format=None, **kwargs)\u001b[39;00m\n\u001b[1;32m     <a href='file:///home/melonlord/.local/lib/python3.8/site-packages/imageio/__init__.py?line=68'>69</a>\u001b[0m \n\u001b[1;32m     <a href='file:///home/melonlord/.local/lib/python3.8/site-packages/imageio/__init__.py?line=69'>70</a>\u001b[0m \u001b[39mReads an image from the specified file. Returns a numpy array, which\u001b[39;00m\n\u001b[0;32m   (...)\u001b[0m\n\u001b[1;32m     <a href='file:///home/melonlord/.local/lib/python3.8/site-packages/imageio/__init__.py?line=85'>86</a>\u001b[0m \u001b[39m    to see what arguments are available for a particular format.\u001b[39;00m\n\u001b[1;32m     <a href='file:///home/melonlord/.local/lib/python3.8/site-packages/imageio/__init__.py?line=86'>87</a>\u001b[0m \u001b[39m\"\"\"\u001b[39;00m\n\u001b[1;32m     <a href='file:///home/melonlord/.local/lib/python3.8/site-packages/imageio/__init__.py?line=88'>89</a>\u001b[0m warnings\u001b[39m.\u001b[39mwarn(\n\u001b[1;32m     <a href='file:///home/melonlord/.local/lib/python3.8/site-packages/imageio/__init__.py?line=89'>90</a>\u001b[0m     \u001b[39m\"\u001b[39m\u001b[39mStarting with ImageIO v3 the behavior of this function will switch to that of\u001b[39m\u001b[39m\"\u001b[39m\n\u001b[1;32m     <a href='file:///home/melonlord/.local/lib/python3.8/site-packages/imageio/__init__.py?line=90'>91</a>\u001b[0m     \u001b[39m\"\u001b[39m\u001b[39m iio.v3.imread. To keep the current behavior (and make this warning dissapear)\u001b[39m\u001b[39m\"\u001b[39m\n\u001b[0;32m   (...)\u001b[0m\n\u001b[1;32m     <a href='file:///home/melonlord/.local/lib/python3.8/site-packages/imageio/__init__.py?line=93'>94</a>\u001b[0m     stacklevel\u001b[39m=\u001b[39m\u001b[39m2\u001b[39m,\n\u001b[1;32m     <a href='file:///home/melonlord/.local/lib/python3.8/site-packages/imageio/__init__.py?line=94'>95</a>\u001b[0m )\n\u001b[0;32m---> <a href='file:///home/melonlord/.local/lib/python3.8/site-packages/imageio/__init__.py?line=96'>97</a>\u001b[0m \u001b[39mreturn\u001b[39;00m imread_v2(uri, \u001b[39mformat\u001b[39;49m\u001b[39m=\u001b[39;49m\u001b[39mformat\u001b[39;49m, \u001b[39m*\u001b[39;49m\u001b[39m*\u001b[39;49mkwargs)\n",
      "File \u001b[0;32m~/.local/lib/python3.8/site-packages/imageio/v2.py:200\u001b[0m, in \u001b[0;36mimread\u001b[0;34m(uri, format, **kwargs)\u001b[0m\n\u001b[1;32m    <a href='file:///home/melonlord/.local/lib/python3.8/site-packages/imageio/v2.py?line=196'>197</a>\u001b[0m imopen_args \u001b[39m=\u001b[39m decypher_format_arg(\u001b[39mformat\u001b[39m)\n\u001b[1;32m    <a href='file:///home/melonlord/.local/lib/python3.8/site-packages/imageio/v2.py?line=197'>198</a>\u001b[0m imopen_args[\u001b[39m\"\u001b[39m\u001b[39mlegacy_mode\u001b[39m\u001b[39m\"\u001b[39m] \u001b[39m=\u001b[39m \u001b[39mTrue\u001b[39;00m\n\u001b[0;32m--> <a href='file:///home/melonlord/.local/lib/python3.8/site-packages/imageio/v2.py?line=199'>200</a>\u001b[0m \u001b[39mwith\u001b[39;00m imopen(uri, \u001b[39m\"\u001b[39;49m\u001b[39mri\u001b[39;49m\u001b[39m\"\u001b[39;49m, \u001b[39m*\u001b[39;49m\u001b[39m*\u001b[39;49mimopen_args) \u001b[39mas\u001b[39;00m file:\n\u001b[1;32m    <a href='file:///home/melonlord/.local/lib/python3.8/site-packages/imageio/v2.py?line=200'>201</a>\u001b[0m     \u001b[39mreturn\u001b[39;00m file\u001b[39m.\u001b[39mread(index\u001b[39m=\u001b[39m\u001b[39m0\u001b[39m, \u001b[39m*\u001b[39m\u001b[39m*\u001b[39mkwargs)\n",
      "File \u001b[0;32m~/.local/lib/python3.8/site-packages/imageio/core/imopen.py:303\u001b[0m, in \u001b[0;36mimopen\u001b[0;34m(uri, io_mode, plugin, extension, format_hint, legacy_mode, **kwargs)\u001b[0m\n\u001b[1;32m    <a href='file:///home/melonlord/.local/lib/python3.8/site-packages/imageio/core/imopen.py?line=296'>297</a>\u001b[0m         err_msg \u001b[39m+\u001b[39m\u001b[39m=\u001b[39m (\n\u001b[1;32m    <a href='file:///home/melonlord/.local/lib/python3.8/site-packages/imageio/core/imopen.py?line=297'>298</a>\u001b[0m             \u001b[39m\"\u001b[39m\u001b[39m\\n\u001b[39;00m\u001b[39mBased on the extension, the following plugins might add capable backends:\u001b[39m\u001b[39m\\n\u001b[39;00m\u001b[39m\"\u001b[39m\n\u001b[1;32m    <a href='file:///home/melonlord/.local/lib/python3.8/site-packages/imageio/core/imopen.py?line=298'>299</a>\u001b[0m             \u001b[39mf\u001b[39m\u001b[39m\"\u001b[39m\u001b[39m{\u001b[39;00minstall_candidates\u001b[39m}\u001b[39;00m\u001b[39m\"\u001b[39m\n\u001b[1;32m    <a href='file:///home/melonlord/.local/lib/python3.8/site-packages/imageio/core/imopen.py?line=299'>300</a>\u001b[0m         )\n\u001b[1;32m    <a href='file:///home/melonlord/.local/lib/python3.8/site-packages/imageio/core/imopen.py?line=301'>302</a>\u001b[0m request\u001b[39m.\u001b[39mfinish()\n\u001b[0;32m--> <a href='file:///home/melonlord/.local/lib/python3.8/site-packages/imageio/core/imopen.py?line=302'>303</a>\u001b[0m \u001b[39mraise\u001b[39;00m err_type(err_msg)\n",
      "\u001b[0;31mValueError\u001b[0m: Could not find a backend to open `/home/melonlord/RPG_RAMNET_modified/temp/03_082_0095_voxel.npy`` with iomode `ri`."
     ]
    }
   ],
   "source": [
    "ds[0]"
   ]
  }
 ],
 "metadata": {
  "interpreter": {
   "hash": "4654e147d6fe676f31a9f86e2485eea716359f8709963986145f7c2d0088ba8c"
  },
  "kernelspec": {
   "display_name": "Python 3.8.10 ('base')",
   "language": "python",
   "name": "python3"
  },
  "language_info": {
   "codemirror_mode": {
    "name": "ipython",
    "version": 3
   },
   "file_extension": ".py",
   "mimetype": "text/x-python",
   "name": "python",
   "nbconvert_exporter": "python",
   "pygments_lexer": "ipython3",
   "version": "3.8.10"
  },
  "orig_nbformat": 4
 },
 "nbformat": 4,
 "nbformat_minor": 2
}
